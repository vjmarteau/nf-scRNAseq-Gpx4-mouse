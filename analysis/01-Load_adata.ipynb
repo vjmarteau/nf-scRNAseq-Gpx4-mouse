{
 "cells": [
  {
   "cell_type": "markdown",
   "id": "cfd02fff-3614-4dd7-a1da-3bd1bca48cd9",
   "metadata": {},
   "source": [
    "# Gpx4 deficient mice:"
   ]
  },
  {
   "cell_type": "markdown",
   "id": "66c999ba-2b82-4ecb-a157-897b1b29fd6a",
   "metadata": {},
   "source": [
    "## 1. Load scRNAseq data\n",
    "Load cellranger output matrices and concatenate all samples to single adata"
   ]
  },
  {
   "cell_type": "code",
   "execution_count": null,
   "id": "bdacc945-78b2-4f93-8183-7387b09512b3",
   "metadata": {},
   "outputs": [],
   "source": [
    "import anndata as ad\n",
    "import scanpy as sc\n",
    "import scipy as sp\n",
    "import numpy as np\n",
    "import pandas as pd\n",
    "import seaborn as sns\n",
    "import matplotlib.pyplot as plt\n",
    "sc.settings.set_figure_params(figsize=(5,5))"
   ]
  },
  {
   "cell_type": "code",
   "execution_count": null,
   "id": "2d61c9d7-e6cf-4e2b-8760-eadaa8e80c09",
   "metadata": {},
   "outputs": [],
   "source": [
    "# Get metadata from samplesheet\n",
    "meta = pd.read_csv('../tables/samplesheet_Grabherr.csv',\n",
    "                   index_col='internal_id')\n",
    "meta.drop(axis='columns', labels=['fastq_1', 'fastq_2'], inplace=True)"
   ]
  },
  {
   "cell_type": "code",
   "execution_count": null,
   "id": "cdcbdf06-bb65-4088-aaf8-4f85600f977e",
   "metadata": {},
   "outputs": [],
   "source": [
    "# load cellranger .h5 feature matrices\n",
    "path_dir='/data/projects/2021/Grabherr-scRNAseq-mouse/30_nfcore_scrnaseq_v2-0-0/cellranger'\n",
    "adatas_list = []\n",
    "cnvan_key_l = []\n",
    "for ind, sample in zip(meta.index, meta.to_dict(orient=\"records\")):\n",
    "\n",
    "    path_h5ads = f'{path_dir}/sample-{ind}/outs/filtered_feature_bc_matrix.h5'\n",
    "    tmp_adata = sc.read_10x_h5(path_h5ads)\n",
    "    \n",
    "    # save gene conversion key and switch index to ensembl ids before making unique\n",
    "    cnvan_key_l.append(tmp_adata.var.copy())\n",
    "    tmp_adata.var = tmp_adata.var.drop(columns=['feature_types','genome'])\n",
    "    tmp_adata.var_names_make_unique()\n",
    "    assert tmp_adata.obs_names.is_unique\n",
    "    tmp_adata.obs = tmp_adata.obs.assign(**sample)\n",
    "    adatas_list.append(tmp_adata)\n",
    "\n",
    "for k in cnvan_key_l[1:]:\n",
    "    assert np.all(k==cnvan_key_l[0])\n",
    "\n",
    "cnvan_key = cnvan_key_l[-1]\n",
    "adata = ad.concat(adatas_list, index_unique=\"_\")\n",
    "\n",
    "# Use conversion key to re-assign symbols to ensembl ids\n",
    "adata.var.loc[cnvan_key.index,'gene_ids'] = cnvan_key.gene_ids"
   ]
  },
  {
   "cell_type": "markdown",
   "id": "5129b2b8-0e8e-415e-bb76-7331aad514cc",
   "metadata": {
    "tags": []
   },
   "source": [
    "### Alternative way to load adata"
   ]
  },
  {
   "cell_type": "code",
   "execution_count": null,
   "id": "1ed1ad8e-a557-4725-95d8-4a335498a36d",
   "metadata": {},
   "outputs": [],
   "source": [
    "meta = pd.read_csv('../tables/samplesheet_Grabherr.csv')\n",
    "meta.drop(axis='columns', labels=['fastq_1', 'fastq_2'], inplace=True)"
   ]
  },
  {
   "cell_type": "code",
   "execution_count": null,
   "id": "cfd80b03-b7f2-4bf7-b434-bee816051d8b",
   "metadata": {},
   "outputs": [],
   "source": [
    "p_dir=\"/data/projects/2021/Grabherr-scRNAseq-mouse/30_nfcore_scrnaseq_v2-0-0/cellranger\"\n",
    "adatas = dict()\n",
    "key_save_l = []\n",
    "for sample in meta.to_dict(orient=\"records\"):\n",
    "    tmp_adata = sc.read_10x_h5(\n",
    "        f\"{path_dir}/sample-{sample['sample']}/outs/filtered_feature_bc_matrix.h5\"\n",
    "    )\n",
    "    # save gene conversion key and switch index to ensembl ids before making unique\n",
    "    key_save_l.append(tmp_adata.var.copy())\n",
    "    tmp_adata.var = tmp_adata.var.drop(columns=['feature_types','genome'])\n",
    "    tmp_adata.var_names_make_unique()\n",
    "    assert tmp_adata.obs_names.is_unique\n",
    "    tmp_adata.obs = tmp_adata.obs.assign(**sample)\n",
    "    adatas[sample['sample']] = tmp_adata # assign sample_id to barcodes\n",
    "    \n",
    "# when concatenating all, columns in .var are somehow dropped\n",
    "# index_unique in .concat appends sample ids to barcodes\n",
    "adata = ad.concat(adatas, index_unique=\"_\")\n",
    "\n",
    "for k in key_save_l[1:]:\n",
    "    assert np.all(k==key_save_l[0])\n",
    "\n",
    "key = key_save_l[-1]\n",
    "\n",
    "# Use conversion key to re-assign symbols to ensembl ids\n",
    "adata.var.loc[key.index,'gene_ids'] = key.gene_ids"
   ]
  },
  {
   "cell_type": "markdown",
   "id": "e2013a3f-267e-4aa5-85fc-a9f312cfde7c",
   "metadata": {},
   "source": [
    "### Filter"
   ]
  },
  {
   "cell_type": "markdown",
   "id": "65f557c8-a063-413c-8793-a3e28e8d0309",
   "metadata": {},
   "source": [
    "-> before any refined filtering only remove barcodes with less than 200 genes and genes found in less than 3 cells"
   ]
  },
  {
   "cell_type": "code",
   "execution_count": null,
   "id": "5a7445e5-9e08-4eca-96f8-07ff0a74bf0b",
   "metadata": {},
   "outputs": [],
   "source": [
    "# Basic filter thresholds\n",
    "sc.pp.filter_cells(adata, min_genes=200)\n",
    "sc.pp.filter_genes(adata, min_cells=3)"
   ]
  },
  {
   "cell_type": "markdown",
   "id": "a227d397-e610-4fb4-b4f5-d1483928c60b",
   "metadata": {},
   "source": [
    "### Append label as column"
   ]
  },
  {
   "cell_type": "code",
   "execution_count": null,
   "id": "49e1f4bd-a720-4387-8024-97ffefbc9900",
   "metadata": {},
   "outputs": [],
   "source": [
    "adata.obs['label'] = adata.obs['sample'].astype(str) + '\\n' + adata.obs['group'].astype(str)"
   ]
  },
  {
   "cell_type": "code",
   "execution_count": null,
   "id": "271fba08-1332-429d-ae52-115ed959d7d4",
   "metadata": {},
   "outputs": [],
   "source": [
    "# Convert \"internal_id\" to factor - makes next step much faster!\n",
    "adata.obs[\"sample\"] = pd.Categorical(adata.obs[\"sample\"])"
   ]
  },
  {
   "cell_type": "code",
   "execution_count": null,
   "id": "4c23b880-e314-458d-aef9-cb382d26493f",
   "metadata": {},
   "outputs": [],
   "source": [
    "# Append \"sample_counts\" as column\n",
    "# First initialize with NAN and loop to fill values\n",
    "adata.obs['sample_counts'] = np.NaN\n",
    "for s in adata.obs[\"sample\"].cat.categories:\n",
    "    index_w_sel_sample = adata.obs.where(adata.obs['sample']==s).dropna(how='all').index\n",
    "    adata.obs.loc[index_w_sel_sample,\"sample_counts\"] = adata.obs['sample'].value_counts().loc[s]\n",
    "adata.obs['sample_counts'] = adata.obs['sample_counts'].astype(int)"
   ]
  },
  {
   "cell_type": "code",
   "execution_count": null,
   "id": "f30fe071-6812-4c25-b492-9c419e1d912f",
   "metadata": {},
   "outputs": [],
   "source": [
    "adata.obs['label'] = adata.obs['label'].astype(str) + '\\nn=' + adata.obs['sample_counts'].astype(str)"
   ]
  },
  {
   "cell_type": "markdown",
   "id": "241a8a39-6bf0-4f09-ac70-20946e5f8eb6",
   "metadata": {},
   "source": [
    "### Summary stats raw adata"
   ]
  },
  {
   "cell_type": "code",
   "execution_count": null,
   "id": "e422dc27-9e8a-4f94-b148-134a3fd8821e",
   "metadata": {},
   "outputs": [],
   "source": [
    "# Dimensions of adata - barcodes X Genes\n",
    "adata.shape"
   ]
  },
  {
   "cell_type": "code",
   "execution_count": null,
   "id": "5274d9a1-2e75-4c98-893c-f21149bd842f",
   "metadata": {},
   "outputs": [],
   "source": [
    "# Order highest to lowest\n",
    "print(adata.obs['sample'].value_counts())\n",
    "print('')\n",
    "print(adata.obs['group'].value_counts())\n",
    "print('')\n",
    "print(adata.obs['sex'].value_counts())\n",
    "print('')\n",
    "print(adata.obs['batch'].value_counts())"
   ]
  },
  {
   "cell_type": "code",
   "execution_count": null,
   "id": "b38e85d3-4970-43f9-b833-077dd399cf60",
   "metadata": {},
   "outputs": [],
   "source": [
    "sc.pl.highest_expr_genes(adata, n_top=20)"
   ]
  },
  {
   "cell_type": "code",
   "execution_count": null,
   "id": "46179889-ead3-42c8-9fc6-8d584a12bac9",
   "metadata": {},
   "outputs": [],
   "source": [
    "# Calculate QC metrics for all samples\n",
    "adata.var['mt'] = adata.var_names.str.startswith('mt-')  # annotate the group of mitochondrial genes as 'mt'\n",
    "sc.pp.calculate_qc_metrics(adata, qc_vars=['mt'], percent_top=None, log1p=False, inplace=True)"
   ]
  },
  {
   "cell_type": "code",
   "execution_count": null,
   "id": "c0705b62-e2b6-428c-be34-09714e9c7b74",
   "metadata": {},
   "outputs": [],
   "source": [
    "sc.pl.violin(adata, ['n_genes_by_counts', 'total_counts', 'pct_counts_mt'],\n",
    "             jitter=0.4, multi_panel=True)"
   ]
  },
  {
   "cell_type": "code",
   "execution_count": null,
   "id": "34873809-c73c-479a-9fe7-9cdb0543b325",
   "metadata": {},
   "outputs": [],
   "source": [
    "# Quality control - plot QC metrics\n",
    "#Sample quality plots\n",
    "sns.set(rc={\"figure.figsize\":(30,10)})\n",
    "sns.set(font_scale=2)\n",
    "t1 = sc.pl.violin(adata, 'total_counts', groupby='label', size=2, log=True, cut=0)\n",
    "t2 = sc.pl.violin(adata, 'pct_counts_mt', groupby='label')"
   ]
  },
  {
   "cell_type": "markdown",
   "id": "9c70f355-44a3-4728-accf-a69e6238cae2",
   "metadata": {},
   "source": [
    "### Write AnnData object to disk"
   ]
  },
  {
   "cell_type": "code",
   "execution_count": null,
   "id": "602d3545-b94f-4b04-83ba-1993e50c7027",
   "metadata": {},
   "outputs": [],
   "source": [
    "# Save h5ad\n",
    "adata.write('../results/raw.h5ad', compression='gzip')\n",
    "!h5ls '../results/raw.h5ad'"
   ]
  }
 ],
 "metadata": {
  "kernelspec": {
   "display_name": "Python [conda env:.conda-scRNAseq2]",
   "language": "python",
   "name": "conda-env-.conda-scRNAseq2-py"
  },
  "language_info": {
   "codemirror_mode": {
    "name": "ipython",
    "version": 3
   },
   "file_extension": ".py",
   "mimetype": "text/x-python",
   "name": "python",
   "nbconvert_exporter": "python",
   "pygments_lexer": "ipython3",
   "version": "3.10.6"
  }
 },
 "nbformat": 4,
 "nbformat_minor": 5
}
