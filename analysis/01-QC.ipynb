{
 "cells": [
  {
   "cell_type": "code",
   "execution_count": null,
   "id": "bdacc945-78b2-4f93-8183-7387b09512b3",
   "metadata": {},
   "outputs": [],
   "source": [
    "import anndata\n",
    "import scanpy as sc\n",
    "import scipy as sp\n",
    "import numpy as np\n",
    "import pandas as pd\n",
    "import seaborn as sns\n",
    "import matplotlib.pyplot as plt"
   ]
  },
  {
   "cell_type": "code",
   "execution_count": null,
   "id": "64358557-b81e-48cf-90c1-4f619a79ad53",
   "metadata": {},
   "outputs": [],
   "source": [
    "meta = pd.read_csv(\"../data/samplesheet_Grabherr.csv\")"
   ]
  },
  {
   "cell_type": "code",
   "execution_count": null,
   "id": "27f4b1c1-63af-4914-b0ed-a5caaa7e96a7",
   "metadata": {},
   "outputs": [],
   "source": [
    "meta = meta.drop(axis=\"columns\", labels=[\"fastq_1\", \"fastq_2\"])"
   ]
  },
  {
   "cell_type": "code",
   "execution_count": null,
   "id": "9d65491e-ba2c-46a6-835d-4ceb8a9c77bb",
   "metadata": {
    "tags": []
   },
   "outputs": [],
   "source": [
    "meta"
   ]
  },
  {
   "cell_type": "code",
   "execution_count": null,
   "id": "6f6d87d4-be80-431d-b3c3-e41f3ee94fa1",
   "metadata": {
    "tags": []
   },
   "outputs": [],
   "source": [
    "adatas = []\n",
    "for sample in meta.to_dict(orient=\"records\"):\n",
    "    tmp_adata = sc.read_10x_h5(\n",
    "        f\"/data/projects/2021/Grabherr-scRNAseq-mouse/30_nfcore_scrnaseq_v2-0-0/cellranger/sample-{sample['sample']}/outs/filtered_feature_bc_matrix.h5\"\n",
    "    )\n",
    "    tmp_adata.var_names_make_unique()\n",
    "    assert tmp_adata.obs_names.is_unique\n",
    "    tmp_adata.obs = tmp_adata.obs.assign(**sample)\n",
    "    adatas.append(tmp_adata)\n",
    "adata = anndata.concat(adatas, index_unique=\"_\")"
   ]
  },
  {
   "cell_type": "code",
   "execution_count": null,
   "id": "9666c51d-e5cd-41a5-a564-b7d3cb45ef3b",
   "metadata": {},
   "outputs": [],
   "source": [
    "adata"
   ]
  },
  {
   "cell_type": "code",
   "execution_count": null,
   "id": "b169fecb-4715-4480-b687-308e52e149fa",
   "metadata": {},
   "outputs": [],
   "source": [
    "pd_meta_dat = pd.read_csv('../data/samplesheet_Grabherr.csv',\n",
    "                          index_col='sample')\n",
    "pd_meta_dat = pd_meta_dat.drop(axis=\"columns\", labels=[\"fastq_1\", \"fastq_2\"])\n",
    "for f, sample in zip(pd_meta_dat.index, pd_meta_dat.to_dict(orient=\"records\")):\n",
    "    print(sample)"
   ]
  },
  {
   "cell_type": "code",
   "execution_count": null,
   "id": "0c74d0c3-1c8a-47e6-9a9b-c71631236295",
   "metadata": {},
   "outputs": [],
   "source": [
    "path_list = []\n",
    "adatas_list = []\n",
    "n_barcodes_dict = {}\n",
    "for ind, sample in zip(pd_meta_dat.index, pd_meta_dat.to_dict(orient=\"records\")):\n",
    "\n",
    "    pathi = f'/data/projects/2021/Grabherr-scRNAseq-mouse/30_nfcore_scrnaseq_v2-0-0/cellranger/sample-{ind}/outs/filtered_feature_bc_matrix.h5'\n",
    "    path_list.append(pathi)\n",
    "    dat_l = sc.read_10x_h5(pathi)\n",
    "    dat_l.var_names_make_unique()\n",
    "    assert dat_l.obs_names.is_unique\n",
    "    dat_l.obs = dat_l.obs.assign(**sample)\n",
    "    adatas_list.append(dat_l)\n",
    "    \n",
    "    n_barcodes_dict[sample['internal_id']] = np.shape(dat_l)[0]\n",
    "\n",
    "adata_v = anndata.concat(adatas_list, index_unique=\"_\")"
   ]
  },
  {
   "cell_type": "code",
   "execution_count": null,
   "id": "8fe0dc29-40d1-477d-b391-211521047fcf",
   "metadata": {},
   "outputs": [],
   "source": [
    "for int_id in adata_v.obs.internal_id.unique():\n",
    "    adata_v.obs.loc[adata_v.obs.internal_id == int_id, 'n_barcodes'] = str(n_barcodes_dict[int_id])"
   ]
  },
  {
   "cell_type": "code",
   "execution_count": null,
   "id": "e6b14479-26e8-43c3-b719-d579866d9392",
   "metadata": {},
   "outputs": [],
   "source": [
    "adata_v.obs['label'] = adata_v.obs['internal_id'] + '\\nn=' + adata_v.obs['n_barcodes'].astype(str)"
   ]
  },
  {
   "cell_type": "code",
   "execution_count": null,
   "id": "a948d534-0558-469c-852b-440d72e5ebc3",
   "metadata": {},
   "outputs": [],
   "source": [
    "adata_v.obs.n_barcodes.unique().astype(int).sum()"
   ]
  },
  {
   "cell_type": "code",
   "execution_count": null,
   "id": "13166646-21b4-4bbb-b022-4b53badb0320",
   "metadata": {},
   "outputs": [],
   "source": [
    "adata_v.var['MT'] = adata_v.var_names.str.startswith('MT-')  # annotate the group of mitochondrial genes as 'MT'\n",
    "sc.pp.calculate_qc_metrics(adata_v, qc_vars=['MT'], percent_top=None, log1p=False, inplace=True)"
   ]
  },
  {
   "cell_type": "code",
   "execution_count": null,
   "id": "61299004-7c2e-4c77-b4e9-6ba49df14e5c",
   "metadata": {},
   "outputs": [],
   "source": [
    "adata_v.obs.head()"
   ]
  },
  {
   "cell_type": "code",
   "execution_count": null,
   "id": "97b6b78e-99d0-4b9f-97e3-8a1b2242bb99",
   "metadata": {},
   "outputs": [],
   "source": [
    "sc.pl.violin(\n",
    "    adata_v, \n",
    "    [\n",
    "     'n_genes_by_counts', \n",
    "     'total_counts', \n",
    "     'pct_counts_MT'\n",
    "     ],\n",
    "    multi_panel=True\n",
    ")"
   ]
  },
  {
   "cell_type": "code",
   "execution_count": null,
   "id": "c9019e42-08cb-4c40-8bac-97f213ed7261",
   "metadata": {},
   "outputs": [],
   "source": [
    "sc.pl.scatter(adata_v, \"total_counts\", \"n_genes_by_counts\")"
   ]
  },
  {
   "cell_type": "code",
   "execution_count": null,
   "id": "3be1bf12-8f09-4044-9b4c-936fb9ae4ca1",
   "metadata": {},
   "outputs": [],
   "source": [
    "# Quality control - plot QC metrics\n",
    "#Sample quality plots\n",
    "sns.set(rc={\"figure.figsize\":(30,10)})\n",
    "sns.set(font_scale=2)\n",
    "t1 = sc.pl.violin(adata_v, 'total_counts', groupby='label', size=2, log=True, cut=0)\n",
    "#plt.savefig('blub.pdf')\n",
    "t2 = sc.pl.violin(adata_v, 'pct_counts_MT', groupby='label')"
   ]
  },
  {
   "cell_type": "code",
   "execution_count": null,
   "id": "e40eb6b8-2445-417a-aab1-23d5ea062d31",
   "metadata": {},
   "outputs": [],
   "source": [
    "#Data quality summary plots\n",
    "p1 = sc.pl.scatter(adata_v, 'total_counts', 'n_genes_by_counts', color='pct_counts_MT')\n",
    "p2 = sc.pl.scatter(adata_v[adata_v.obs['total_counts']<10000], 'total_counts', 'n_genes_by_counts', color='pct_counts_MT')"
   ]
  },
  {
   "cell_type": "code",
   "execution_count": null,
   "id": "624b0b18-b02a-48d2-b2a5-0df570c95f7b",
   "metadata": {},
   "outputs": [],
   "source": [
    "#Thresholding decision: counts\n",
    "p3 = sns.distplot(adata_v.obs['total_counts'], kde=False, bins=60)\n",
    "plt.show()\n",
    "\n",
    "p4 = sns.distplot(adata_v.obs['total_counts'][adata_v.obs['total_counts']<1000], kde=False, bins=100)\n",
    "plt.show()\n",
    "\n",
    "p5 = sns.distplot(adata_v.obs['total_counts'][adata_v.obs['total_counts']>1000], kde=False, bins=100)\n",
    "plt.show()"
   ]
  },
  {
   "cell_type": "code",
   "execution_count": null,
   "id": "ff99ca1b-1dee-4840-be38-f4d652a9b8bd",
   "metadata": {},
   "outputs": [],
   "source": [
    "adata_v"
   ]
  },
  {
   "cell_type": "code",
   "execution_count": null,
   "id": "f485d840-084e-4146-b59b-b13fcd87c9d8",
   "metadata": {},
   "outputs": [],
   "source": [
    "import sys\n",
    "sys.version"
   ]
  },
  {
   "cell_type": "code",
   "execution_count": null,
   "id": "b5500a44-8de8-4f65-882b-c94a5e977662",
   "metadata": {},
   "outputs": [],
   "source": []
  }
 ],
 "metadata": {
  "kernelspec": {
   "display_name": "Python 3 (ipykernel)",
   "language": "python",
   "name": "python3"
  },
  "language_info": {
   "codemirror_mode": {
    "name": "ipython",
    "version": 3
   },
   "file_extension": ".py",
   "mimetype": "text/x-python",
   "name": "python",
   "nbconvert_exporter": "python",
   "pygments_lexer": "ipython3",
   "version": "3.8.5"
  }
 },
 "nbformat": 4,
 "nbformat_minor": 5
}
