{
 "cells": [
  {
   "cell_type": "code",
   "execution_count": null,
   "id": "495e2b44",
   "metadata": {},
   "outputs": [],
   "source": [
    "import anndata as ad\n",
    "import scanpy as sc\n",
    "import pandas as pd\n",
    "import seaborn as sns\n",
    "import numpy as np\n",
    "import matplotlib.pyplot as plt\n",
    "sc.settings.set_figure_params(figsize=(5,5))\n",
    "sns.set(font_scale=2)"
   ]
  },
  {
   "cell_type": "code",
   "execution_count": null,
   "id": "45e42b0c-9f25-41a1-a9d2-242dfa69333f",
   "metadata": {},
   "outputs": [],
   "source": [
    "from nxfvars import nxfvars\n",
    "input_adata = nxfvars.get('input_adata', '../results/scrnaseq/data/adata.h5ad')"
   ]
  },
  {
   "cell_type": "code",
   "execution_count": null,
   "id": "040d01d7",
   "metadata": {
    "tags": [
     "parameters"
    ]
   },
   "outputs": [],
   "source": [
    "# When using papermil need to add cell tags: parameters to this cell for it to work!!\n",
    "input_adata = '../results/scrnaseq/data/adata.h5ad'\n",
    "artifact_dir = \"\""
   ]
  },
  {
   "cell_type": "code",
   "execution_count": null,
   "id": "94379bff-18c1-4fe9-8fbc-a0170ac40cf6",
   "metadata": {},
   "outputs": [],
   "source": [
    "adata = ad.read_h5ad(input_adata)"
   ]
  },
  {
   "cell_type": "code",
   "execution_count": null,
   "id": "710aaeec-3c5a-4ac3-807d-f34d0c44c252",
   "metadata": {},
   "outputs": [],
   "source": [
    "# annotate the group of mitochondrial genes as 'mito'\n",
    "adata.var['mito'] = adata.var_names.str.startswith('mt-')\n",
    "# ribosomal genes as ribo\n",
    "adata.var['ribo'] = adata.var_names.str.startswith(('Rps', 'Rpl'))\n",
    "\n",
    "sc.pp.calculate_qc_metrics(adata, qc_vars=['mito', 'ribo'], percent_top=None, log1p=False, inplace=True)"
   ]
  },
  {
   "cell_type": "code",
   "execution_count": null,
   "id": "3d347043-bcc0-467e-8273-0eae688cb2ae",
   "metadata": {},
   "outputs": [],
   "source": [
    "adata.obs[\"sample\"] = pd.Categorical(adata.obs[\"sample\"])"
   ]
  },
  {
   "cell_type": "code",
   "execution_count": null,
   "id": "b94a2545-22d5-41c3-a8e6-603cd9b0569f",
   "metadata": {},
   "outputs": [],
   "source": [
    "adata_p = adata.copy()\n",
    "adata_p.obs[\"sample\"] = pd.Categorical(adata_p.obs[\"sample\"])\n",
    "\n",
    "adata_p.obs['sample_counts'] = np.NaN\n",
    "for s in adata_p.obs[\"sample\"].cat.categories:\n",
    "    index_w_sel_sample = adata_p.obs.where(adata_p.obs['sample']==s).dropna(how='all').index\n",
    "    adata_p.obs.loc[index_w_sel_sample,\"sample_counts\"] = adata_p.obs['sample'].value_counts().loc[s]\n",
    "    \n",
    "adata_p.obs['sample_counts'] = adata_p.obs['sample_counts'].astype(int)\n",
    "\n",
    "# Create new label column for plots: sample + sample_counts\n",
    "adata_p.obs['label'] = adata_p.obs['sample'].astype(str) + '\\nn=' + adata_p.obs['sample_counts'].astype(str)\n",
    "adata_p.obs[\"label\"] = pd.Categorical(adata_p.obs[\"label\"])\n",
    "\n",
    "fig, ax = plt.subplots(1,1,figsize=(30,10))\n",
    "sc.pl.violin(adata_p, 'total_counts', groupby='label', size=2, log=True, cut=0, ax=ax)\n",
    "\n",
    "fig, ax = plt.subplots(1,1,figsize=(30,10))\n",
    "sc.pl.violin(adata_p, 'pct_counts_mito', groupby='label', ax=ax)"
   ]
  },
  {
   "cell_type": "code",
   "execution_count": null,
   "id": "23cf6394-7bcb-458e-9106-d1313c0bbe39",
   "metadata": {},
   "outputs": [],
   "source": [
    "# Sample quality plots\n",
    "fig, ax = plt.subplots(1,1,figsize=(30,10))\n",
    "sc.pl.violin(adata_p, 'total_counts', groupby='label', size=2, log=True, cut=0, ax=ax)\n",
    "fig.savefig(f\"{artifact_dir}/01-Violin_total_counts_raw_sub.pdf\", bbox_inches=\"tight\")"
   ]
  },
  {
   "cell_type": "code",
   "execution_count": null,
   "id": "a8dc665e-280c-4f00-bb12-77db705fac1c",
   "metadata": {},
   "outputs": [],
   "source": []
  }
 ],
 "metadata": {
  "kernelspec": {
   "display_name": "Python [conda env:CRCA-2022-crca-scanpy]",
   "language": "python",
   "name": "conda-env-CRCA-2022-crca-scanpy-py"
  },
  "language_info": {
   "codemirror_mode": {
    "name": "ipython",
    "version": 3
   },
   "file_extension": ".py",
   "mimetype": "text/x-python",
   "name": "python",
   "nbconvert_exporter": "python",
   "pygments_lexer": "ipython3",
   "version": "3.10.6"
  },
  "vscode": {
   "interpreter": {
    "hash": "165c5101560e5c5109a271e94730d08e9b5f1a2a491d6124e25df0bd7a72b1fe"
   }
  }
 },
 "nbformat": 4,
 "nbformat_minor": 5
}
